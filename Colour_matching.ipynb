{
  "nbformat": 4,
  "nbformat_minor": 0,
  "metadata": {
    "colab": {
      "name": "Colour matching.ipynb",
      "provenance": [],
      "include_colab_link": true
    },
    "kernelspec": {
      "name": "python3",
      "display_name": "Python 3"
    }
  },
  "cells": [
    {
      "cell_type": "markdown",
      "metadata": {
        "id": "view-in-github",
        "colab_type": "text"
      },
      "source": [
        "<a href=\"https://colab.research.google.com/github/priyanshiyadavnitsgr/Computer-Vision/blob/master/Colour_matching.ipynb\" target=\"_parent\"><img src=\"https://colab.research.google.com/assets/colab-badge.svg\" alt=\"Open In Colab\"/></a>"
      ]
    },
    {
      "cell_type": "code",
      "metadata": {
        "id": "rQJQiGrChKQD",
        "colab_type": "code",
        "colab": {}
      },
      "source": [
        "import cv2\n",
        "import numpy as np\n",
        "from google.colab.patches import cv2_imshow"
      ],
      "execution_count": 0,
      "outputs": []
    },
    {
      "cell_type": "code",
      "metadata": {
        "id": "Or90WuPIhQKs",
        "colab_type": "code",
        "outputId": "d885b250-5d0f-4202-b1da-6660c029056e",
        "colab": {
          "base_uri": "https://localhost:8080/",
          "height": 168
        }
      },
      "source": [
        "logo=cv2.imread('/content/google logo.png')\n",
        "cv2_imshow(logo)"
      ],
      "execution_count": 0,
      "outputs": [
        {
          "output_type": "display_data",
          "data": {
            "image/png": "[encoded data removed]",
            "text/plain": [
              "<PIL.Image.Image image mode=RGB size=333x151 at 0x7F4738A65908>"
            ]
          },
          "metadata": {
            "tags": []
          }
        }
      ]
    },
    {
      "cell_type": "code",
      "metadata": {
        "id": "CeazZpCcipXA",
        "colab_type": "code",
        "outputId": "fc58a1ff-4847-48a7-8d15-15b93c5ff951",
        "colab": {
          "base_uri": "https://localhost:8080/",
          "height": 35
        }
      },
      "source": [
        "logo.shape"
      ],
      "execution_count": 0,
      "outputs": [
        {
          "output_type": "execute_result",
          "data": {
            "text/plain": [
              "(151, 333, 3)"
            ]
          },
          "metadata": {
            "tags": []
          },
          "execution_count": 3
        }
      ]
    },
    {
      "cell_type": "code",
      "metadata": {
        "id": "D0rBQwXFkGTR",
        "colab_type": "code",
        "outputId": "d1a31f4f-5da6-4451-dc1a-7e46c461c0da",
        "colab": {
          "base_uri": "https://localhost:8080/",
          "height": 168
        }
      },
      "source": [
        "img=logo[:,:,2].copy()\n",
        "\n",
        "\n",
        "\n",
        "ret,thresh4 = cv2.threshold(img, 255, 255, cv2.THRESH_TRUNC)\n",
        "cv2_imshow(thresh4)\n",
        "\n"
      ],
      "execution_count": 0,
      "outputs": [
        {
          "output_type": "display_data",
          "data": {
            "image/png": "[encoded data removed]",
            "text/plain": [
              "<PIL.Image.Image image mode=L size=333x151 at 0x7F47389EBC88>"
            ]
          },
          "metadata": {
            "tags": []
          }
        }
      ]
    },
    {
      "cell_type": "code",
      "metadata": {
        "id": "24j82aHeiSIS",
        "colab_type": "code",
        "outputId": "7b6445ee-d5f1-4ae7-b510-dde2858217d0",
        "colab": {
          "base_uri": "https://localhost:8080/",
          "height": 168
        }
      },
      "source": [
        "cv2_imshow(logo[:,:,2])"
      ],
      "execution_count": 0,
      "outputs": [
        {
          "output_type": "display_data",
          "data": {
            "image/png": "[encoded data removed]",
            "text/plain": [
              "<PIL.Image.Image image mode=L size=333x151 at 0x7F387DBF0748>"
            ]
          },
          "metadata": {
            "tags": []
          }
        }
      ]
    },
    {
      "cell_type": "code",
      "metadata": {
        "id": "3CU1ZpG8iXGg",
        "colab_type": "code",
        "outputId": "9416044f-7a1d-464b-e808-9918599bbfd7",
        "colab": {
          "base_uri": "https://localhost:8080/",
          "height": 844
        }
      },
      "source": [
        "img = cv2.imread('/content/google logo.png')\n",
        " \n",
        "hsv = cv2.cvtColor(img, cv2.COLOR_BGR2HSV)\n",
        " \n",
        " \n",
        "# Red color rangle  169, 100, 100 , 189, 255, 255\n",
        " \n",
        "lower_range = np.array([0,100,100])\n",
        "upper_range = np.array([10,255,255])\n",
        " \n",
        "mask_red = cv2.inRange(hsv, lower_range, upper_range)\n",
        "mask_green= cv2.inRange(hsv, np.array([36, 0, 0]), np.array([70, 255,255]))               \n",
        "mask_yellow = cv2.inRange(hsv, np.array([15,0,0]), np.array([36, 255, 255])) \n",
        "mask_blue=  cv2.inRange(hsv, np.array([90,50,50]), np.array([130,255,255])) \n",
        "\n",
        "cv2_imshow( img)\n",
        "print('red')\n",
        "cv2_imshow( mask_red)\n",
        "\n",
        "print('green')\n",
        "cv2_imshow(mask_green)\n",
        "\n",
        "print('yellow')\n",
        "cv2_imshow(mask_yellow)\n",
        "\n",
        "print('blue')\n",
        "cv2_imshow(mask_blue)"
      ],
      "execution_count": 37,
      "outputs": [
        {
          "output_type": "display_data",
          "data": {
            "image/png": "[encoded data removed]",
            "text/plain": [
              "<PIL.Image.Image image mode=RGB size=333x151 at 0x7F4738935B38>"
            ]
          },
          "metadata": {
            "tags": []
          }
        },
        {
          "output_type": "stream",
          "text": [
            "red\n"
          ],
          "name": "stdout"
        },
        {
          "output_type": "display_data",
          "data": {
            "image/png": "[encoded data removed]",
            "text/plain": [
              "<PIL.Image.Image image mode=L size=333x151 at 0x7F473891B6D8>"
            ]
          },
          "metadata": {
            "tags": []
          }
        },
        {
          "output_type": "stream",
          "text": [
            "green\n"
          ],
          "name": "stdout"
        },
        {
          "output_type": "display_data",
          "data": {
            "image/png": "[encoded data removed]",
            "text/plain": [
              "<PIL.Image.Image image mode=L size=333x151 at 0x7F4738935BE0>"
            ]
          },
          "metadata": {
            "tags": []
          }
        },
        {
          "output_type": "stream",
          "text": [
            "yellow\n"
          ],
          "name": "stdout"
        },
        {
          "output_type": "display_data",
          "data": {
            "image/png": "[encoded data removed]",
            "text/plain": [
              "<PIL.Image.Image image mode=L size=333x151 at 0x7F473891BE48>"
            ]
          },
          "metadata": {
            "tags": []
          }
        },
        {
          "output_type": "stream",
          "text": [
            "blue\n"
          ],
          "name": "stdout"
        },
        {
          "output_type": "display_data",
          "data": {
            "image/png": "[encoded data removed]",
            "text/plain": [
              "<PIL.Image.Image image mode=L size=333x151 at 0x7F4738935C50>"
            ]
          },
          "metadata": {
            "tags": []
          }
        }
      ]
    },
    {
      "cell_type": "code",
      "metadata": {
        "id": "pBv2MmMCVHq6",
        "colab_type": "code",
        "colab": {}
      },
      "source": [
        ""
      ],
      "execution_count": 0,
      "outputs": []
    }
  ]
}