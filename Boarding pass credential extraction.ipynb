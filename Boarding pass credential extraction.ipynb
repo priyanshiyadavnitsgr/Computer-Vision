{
 "cells": [
  {
   "cell_type": "code",
   "execution_count": 1,
   "metadata": {},
   "outputs": [],
   "source": [
    "import cv2"
   ]
  },
  {
   "cell_type": "code",
   "execution_count": 178,
   "metadata": {},
   "outputs": [],
   "source": [
    "boarding_pass=cv2.imread('boarding2pass.jpg')\n"
   ]
  },
  {
   "cell_type": "code",
   "execution_count": 182,
   "metadata": {},
   "outputs": [],
   "source": [
    "cv2.imshow('image', boarding_pass)\n",
    "cv2.waitKey(0)\n",
    "cv2.destroyAllWindows() "
   ]
  },
  {
   "cell_type": "code",
   "execution_count": 163,
   "metadata": {},
   "outputs": [
    {
     "data": {
      "text/plain": [
       "(701, 900, 3)"
      ]
     },
     "execution_count": 163,
     "metadata": {},
     "output_type": "execute_result"
    }
   ],
   "source": [
    "boarding_pass.shape"
   ]
  },
  {
   "cell_type": "code",
   "execution_count": 164,
   "metadata": {},
   "outputs": [],
   "source": [
    "pass1=boarding_pass[:300 , :]\n",
    "cv2.imshow('pass1', pass1)\n",
    "cv2.waitKey(0)\n",
    "cv2.destroyAllWindows() \n",
    "\n"
   ]
  },
  {
   "cell_type": "code",
   "execution_count": 165,
   "metadata": {},
   "outputs": [],
   "source": [
    "pass2=boarding_pass[400: , :]\n",
    "cv2.imshow('pass1', pass2)\n",
    "cv2.waitKey(0)\n",
    "cv2.destroyAllWindows() \n",
    "\n"
   ]
  },
  {
   "cell_type": "code",
   "execution_count": 166,
   "metadata": {},
   "outputs": [],
   "source": [
    "gray=cv2.cvtColor(pass1, cv2.COLOR_BGR2GRAY)\n",
    "\n",
    "goindigo=gray.copy()\n",
    "goindigo=goindigo[25:50, -195:-70]\n",
    "cv2.imshow('template_goindigo', goindigo)\n",
    "cv2.waitKey(0)\n",
    "cv2.destroyAllWindows() "
   ]
  },
  {
   "cell_type": "code",
   "execution_count": 167,
   "metadata": {},
   "outputs": [],
   "source": [
    "def object_detection(image, template, width, height):\n",
    "    image_gray=cv2.cvtColor(image, cv2.COLOR_BGR2GRAY)\n",
    "  \n",
    "  \n",
    "    result=cv2.matchTemplate(image_gray, template, cv2.TM_CCOEFF_NORMED)\n",
    "    min_val, max_val, min_loc, max_loc= cv2.minMaxLoc(result)\n",
    "    print('Accuracy: ', max_val, '\\nLocation: ', max_loc)\n",
    "    \n",
    "    top_left=max_loc\n",
    "    bottom_right=(top_left[0]+width, top_left[1]+height)\n",
    "    detected=cv2.rectangle(image.copy(), top_left, bottom_right, (0,0,255), 4)\n",
    "\n",
    "    cv2.imshow('image_detection', detected)\n",
    "    cv2.waitKey(0)\n",
    "    cv2.destroyAllWindows() \n",
    "    \n",
    "    "
   ]
  },
  {
   "cell_type": "code",
   "execution_count": 168,
   "metadata": {},
   "outputs": [
    {
     "name": "stdout",
     "output_type": "stream",
     "text": [
      "Accuracy:  0.987167239189148 \n",
      "Location:  (705, 24)\n"
     ]
    }
   ],
   "source": [
    "object_detection(pass2, goindigo, 125, 25)"
   ]
  },
  {
   "cell_type": "code",
   "execution_count": 169,
   "metadata": {},
   "outputs": [],
   "source": [
    "gray=cv2.cvtColor(pass1, cv2.COLOR_BGR2GRAY)\n",
    "\n",
    "pnr=gray.copy()\n",
    "pnr=pnr[120:150, 445:520]\n",
    "cv2.imshow('PNR', pnr)\n",
    "cv2.waitKey(0)\n",
    "cv2.destroyAllWindows() "
   ]
  },
  {
   "cell_type": "code",
   "execution_count": 170,
   "metadata": {},
   "outputs": [
    {
     "name": "stdout",
     "output_type": "stream",
     "text": [
      "Accuracy:  0.9884820580482483 \n",
      "Location:  (445, 120)\n"
     ]
    }
   ],
   "source": [
    "object_detection(pass2, pnr, 150, 30)"
   ]
  },
  {
   "cell_type": "code",
   "execution_count": 171,
   "metadata": {},
   "outputs": [],
   "source": [
    "def crop_detected_object (image, template, width, height):\n",
    "    image_gray=cv2.cvtColor(image, cv2.COLOR_BGR2GRAY)\n",
    "  \n",
    "\n",
    "    result=cv2.matchTemplate(image_gray, template, cv2.TM_CCOEFF_NORMED)\n",
    "    min_val, max_val, min_loc, max_loc= cv2.minMaxLoc(result)\n",
    "    print(' Accuracy: ', max_val,'\\n Location of the image: ',  max_loc)\n",
    "\n",
    "    top_left=max_loc\n",
    "    bottom_right=(top_left[0]+width, top_left[1]+height)\n",
    "\n",
    "    cropped=image[ top_left[1]:top_left[1]+height, top_left[0]:top_left[0]+width]\n",
    "\n",
    "    return cropped "
   ]
  },
  {
   "cell_type": "code",
   "execution_count": 172,
   "metadata": {},
   "outputs": [
    {
     "name": "stdout",
     "output_type": "stream",
     "text": [
      " Accuracy:  0.9884820580482483 \n",
      " Location of the image:  (445, 120)\n"
     ]
    }
   ],
   "source": [
    "cropped_image=crop_detected_object(pass2, pnr, 150, 30)\n",
    "cv2.imshow('Cropped', cropped_image)\n",
    "cv2.waitKey(0)\n",
    "cv2.destroyAllWindows() "
   ]
  },
  {
   "cell_type": "code",
   "execution_count": 173,
   "metadata": {},
   "outputs": [],
   "source": [
    "import pytesseract"
   ]
  },
  {
   "cell_type": "code",
   "execution_count": 174,
   "metadata": {},
   "outputs": [],
   "source": [
    "import PIL as pil"
   ]
  },
  {
   "cell_type": "code",
   "execution_count": 175,
   "metadata": {},
   "outputs": [
    {
     "data": {
      "image/png": "[encoded data removed]",
      "text/plain": [
       "<PIL.Image.Image image mode=RGB size=150x30 at 0x18589249550>"
      ]
     },
     "execution_count": 175,
     "metadata": {},
     "output_type": "execute_result"
    }
   ],
   "source": [
    "from PIL import Image\n",
    "cropped_image=cv2.cvtColor(cropped_image, cv2.COLOR_BGR2RGB) \n",
    "im = Image.fromarray(cropped_image)\n",
    "im"
   ]
  },
  {
   "cell_type": "code",
   "execution_count": 176,
   "metadata": {},
   "outputs": [],
   "source": [
    "def extraction(image):\n",
    "    pil_img=cv2.cvtColor(image, cv2.COLOR_BGR2RGB) \n",
    "    im = Image.fromarray(pil_img)\n",
    "    text=pytesseract.image_to_string(image)\n",
    "    print(text)"
   ]
  },
  {
   "cell_type": "code",
   "execution_count": 177,
   "metadata": {},
   "outputs": [
    {
     "name": "stdout",
     "output_type": "stream",
     "text": [
      "PNR: UK1T7R\n"
     ]
    }
   ],
   "source": [
    "extraction(cropped_image)"
   ]
  },
  {
   "cell_type": "code",
   "execution_count": 181,
   "metadata": {},
   "outputs": [
    {
     "name": "stdout",
     "output_type": "stream",
     "text": [
      " Accuracy:  0.9884820580482483 \n",
      " Location of the image:  (445, 120)\n",
      "PNR UK1T7R\n"
     ]
    }
   ],
   "source": [
    "extraction(crop_detected_object(pass2, pnr, 150, 30))"
   ]
  },
  {
   "cell_type": "code",
   "execution_count": 197,
   "metadata": {},
   "outputs": [],
   "source": [
    "shifted=cv2.imread('doc_boarding_pass-page0001.jpg')\n",
    "cv2.imshow('shifted', shifted)\n",
    "cv2.waitKey(0)\n",
    "cv2.destroyAllWindows() "
   ]
  },
  {
   "cell_type": "code",
   "execution_count": 205,
   "metadata": {},
   "outputs": [
    {
     "name": "stdout",
     "output_type": "stream",
     "text": [
      "Detecting boarding pass on a paper\n",
      " Accuracy:  0.5794123411178589 \n",
      " Location:  (155, 481)\n",
      "Detecting PNR\n",
      " Accuracy:  0.7856648564338684 \n",
      " Location of the image:  (617, 604)\n",
      "\n",
      "Fetching the PNR value\n",
      "PNR: UKIT7R\n"
     ]
    }
   ],
   "source": [
    "def object_detection(image, template, width, height):\n",
    "    image_gray=cv2.cvtColor(image, cv2.COLOR_BGR2GRAY)\n",
    "  \n",
    "  \n",
    "    result=cv2.matchTemplate(image_gray, template, cv2.TM_CCOEFF_NORMED)\n",
    "    min_val, max_val, min_loc, max_loc= cv2.minMaxLoc(result)\n",
    "    print(' Accuracy: ', max_val, '\\n Location: ', max_loc)\n",
    "    \n",
    "    top_left=max_loc\n",
    "    bottom_right=(top_left[0]+width, top_left[1]+height)\n",
    "    detected=cv2.rectangle(image.copy(), top_left, bottom_right, (0,0,255), 4)\n",
    "\n",
    "    #cv2.imshow('image_detection', detected)\n",
    "    #cv2.waitKey(0)\n",
    "    #cv2.destroyAllWindows() \n",
    "    \n",
    "    return detected\n",
    "\n",
    "\n",
    "def crop_detected_object (image, template, width, height):\n",
    "    image_gray=cv2.cvtColor(image, cv2.COLOR_BGR2GRAY)\n",
    "  \n",
    "\n",
    "    result=cv2.matchTemplate(image_gray, template, cv2.TM_CCOEFF_NORMED)\n",
    "    min_val, max_val, min_loc, max_loc= cv2.minMaxLoc(result)\n",
    "    print(' Accuracy: ', max_val,'\\n Location of the image: ',  max_loc)\n",
    "\n",
    "    top_left=max_loc\n",
    "    bottom_right=(top_left[0]+width, top_left[1]+height)\n",
    "\n",
    "    cropped=image[ top_left[1]:top_left[1]+height, top_left[0]:top_left[0]+width]\n",
    "\n",
    "    return cropped \n",
    "\n",
    "def extraction(image):\n",
    "    pil_img=cv2.cvtColor(image, cv2.COLOR_BGR2RGB) \n",
    "    im = Image.fromarray(pil_img)\n",
    "    text=pytesseract.image_to_string(image)\n",
    "    print(text)\n",
    "\n",
    "\n",
    "print('Detecting boarding pass on a paper')\n",
    "pass_=object_detection(shifted, gray, 900, 701)\n",
    "\n",
    "print('Detecting PNR')\n",
    "crop=crop_detected_object(pass_, pnr, 150,30)\n",
    "\n",
    "print('\\nFetching the PNR value')\n",
    "extraction(crop)\n",
    "\n",
    "\n"
   ]
  },
  {
   "cell_type": "code",
   "execution_count": null,
   "metadata": {},
   "outputs": [],
   "source": []
  }
 ],
 "metadata": {
  "kernelspec": {
   "display_name": "Python 3",
   "language": "python",
   "name": "python3"
  },
  "language_info": {
   "codemirror_mode": {
    "name": "ipython",
    "version": 3
   },
   "file_extension": ".py",
   "mimetype": "text/x-python",
   "name": "python",
   "nbconvert_exporter": "python",
   "pygments_lexer": "ipython3",
   "version": "3.6.5"
  }
 },
 "nbformat": 4,
 "nbformat_minor": 2
}
